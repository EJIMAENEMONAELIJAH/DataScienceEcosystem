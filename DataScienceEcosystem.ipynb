{
 "cells": [
  {
   "cell_type": "markdown",
   "id": "35772457-a5aa-4af0-bf66-05f1dc7903cf",
   "metadata": {},
   "source": [
    "# Data Science Tools and Ecosystem"
   ]
  },
  {
   "cell_type": "markdown",
   "id": "d0ad28a4-7851-4d0d-9c83-d341f1e80661",
   "metadata": {},
   "source": [
    "## In this notebook, Data Science Tools and Ecosystem are summarized."
   ]
  },
  {
   "cell_type": "markdown",
   "id": "6f3163b5",
   "metadata": {},
   "source": [
    "**Objectives:**\n",
    "    \n",
    "    * Python\n",
    "    * R\n",
    "    * Scala\n",
    "    * Java"
   ]
  },
  {
   "cell_type": "markdown",
   "id": "c9977ed4",
   "metadata": {},
   "source": [
    "Some of the popular languages that Data Scientists use are:\n",
    "1. python\n",
    "2. R\n",
    "3. Scala\n",
    "4. Java"
   ]
  },
  {
   "cell_type": "markdown",
   "id": "5c3f16f8",
   "metadata": {},
   "source": [
    "Some of the commonly used libraries used by Data Scientists include:"
   ]
  },
  {
   "cell_type": "markdown",
   "id": "26b5a767",
   "metadata": {},
   "source": [
    "1. pandas\n",
    "2. Numpy\n",
    "3. Scikit\n",
    "4. Seaborn\n",
    "5. Matplotlib\n",
    "6. Keras"
   ]
  },
  {
   "cell_type": "markdown",
   "id": "88a533c1",
   "metadata": {},
   "source": [
    "| Data Science Tools|\n",
    "| -----------|\n",
    "|Jupyter lite|\n",
    "|scala|\n",
    "|Jupyter|"
   ]
  },
  {
   "cell_type": "markdown",
   "id": "d4b1b6d3",
   "metadata": {},
   "source": [
    "### Below are a few examples of evaluating arithmetic expressions in Python"
   ]
  },
  {
   "cell_type": "code",
   "execution_count": 1,
   "id": "58d68876",
   "metadata": {},
   "outputs": [],
   "source": [
    "#This a simple arithmetic expression to mutiply then add integers"
   ]
  },
  {
   "cell_type": "code",
   "execution_count": 2,
   "id": "58affa81",
   "metadata": {},
   "outputs": [
    {
     "data": {
      "text/plain": [
       "17"
      ]
     },
     "execution_count": 2,
     "metadata": {},
     "output_type": "execute_result"
    }
   ],
   "source": [
    "\n",
    "(3*4)+5\n"
   ]
  },
  {
   "cell_type": "code",
   "execution_count": 3,
   "id": "a8a9ec43",
   "metadata": {},
   "outputs": [],
   "source": [
    "#This will convert 200 minutes to hours by diving by 60"
   ]
  },
  {
   "cell_type": "code",
   "execution_count": 5,
   "id": "912b1302",
   "metadata": {},
   "outputs": [
    {
     "data": {
      "text/plain": [
       "3.3333333333333335"
      ]
     },
     "execution_count": 5,
     "metadata": {},
     "output_type": "execute_result"
    }
   ],
   "source": [
    "200/60"
   ]
  },
  {
   "cell_type": "markdown",
   "id": "a6e094ca",
   "metadata": {},
   "source": [
    "## Author\n",
    "Ejima Enemona Elijah"
   ]
  },
  {
   "cell_type": "code",
   "execution_count": null,
   "id": "cf2e4157",
   "metadata": {},
   "outputs": [],
   "source": []
  }
 ],
 "metadata": {
  "kernelspec": {
   "display_name": "Python 3 (ipykernel)",
   "language": "python",
   "name": "python3"
  },
  "language_info": {
   "codemirror_mode": {
    "name": "ipython",
    "version": 3
   },
   "file_extension": ".py",
   "mimetype": "text/x-python",
   "name": "python",
   "nbconvert_exporter": "python",
   "pygments_lexer": "ipython3",
   "version": "3.11.5"
  }
 },
 "nbformat": 4,
 "nbformat_minor": 5
}
